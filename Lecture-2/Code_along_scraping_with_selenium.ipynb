{
 "cells": [
  {
   "cell_type": "markdown",
   "id": "9ba27206-4c4a-4d6d-90af-1c00a13ae930",
   "metadata": {},
   "source": [
    "# Webscraping with Selenium\n",
    "- Be sure you have your codingdojo login information saved in a secret file! (Review: https://login.codingdojo.com/m/689/16349/121272)\n",
    "- Use selenium to:\n",
    "    login to the coding dojo website and ultimately create a list of all modules in week 1 of the Advanced ML course"
   ]
  },
  {
   "cell_type": "code",
   "execution_count": null,
   "id": "c0c730c9-9d60-4c90-97e7-6e2c9fbcefab",
   "metadata": {},
   "outputs": [],
   "source": [
    "# Use your local filepath here (use your name in place of \"brend\" and use the name you gave to your .json file in place of dojo_login.json)\n",
    "import json\n",
    "with open (\"/Users/purvikansara/.secret/dojo_login.json\") as f:\n",
    "    login_dict = json.load(f)\n",
    "login_dict.keys()"
   ]
  },
  {
   "cell_type": "code",
   "execution_count": null,
   "id": "a79fdc54-ddc7-4c91-9030-055c52d90032",
   "metadata": {},
   "outputs": [],
   "source": [
    "import time\n",
    "\n",
    "\n",
    "from selenium import webdriver\n",
    "from selenium.webdriver.chrome.service import Service"
   ]
  },
  {
   "cell_type": "code",
   "execution_count": null,
   "id": "70fceda9-71d1-4fe9-a10c-9168fa10324a",
   "metadata": {},
   "outputs": [],
   "source": [
    "# chrome_executable = Service(executable_path=\"./chromedriver\", log_path=None)\n",
    "# driver = webdriver.Chrome()\n",
    "\n",
    "# if you are not able to get the correct version of you chrome browser you can also use this workaround\n",
    "\n",
    "from webdriver_manager.chrome import ChromeDriverManager\n",
    "\n",
    "driver = webdriver.Chrome(service=Service(executable_path = ChromeDriverManager().install(),log_path=None))"
   ]
  },
  {
   "cell_type": "code",
   "execution_count": null,
   "id": "a18d66bd-db8b-49f9-9e53-c57d61862941",
   "metadata": {},
   "outputs": [],
   "source": [
    "driver.get('https://login.codingdojo.com/dashboard')"
   ]
  },
  {
   "cell_type": "code",
   "execution_count": null,
   "id": "f206d52e-92fd-4c69-8431-c796d52bbe8b",
   "metadata": {},
   "outputs": [],
   "source": [
    "# Option 1: Use by 'id' with value 'username'\n",
    "username_field = driver.find_element(by='name', value='email')\n",
    "username_field"
   ]
  },
  {
   "cell_type": "code",
   "execution_count": null,
   "id": "f09998ed-1133-4bc2-97bb-16c18edbf4d2",
   "metadata": {},
   "outputs": [],
   "source": [
    "# Identify the password field by 'id' with value 'password'\n",
    "password_field = driver.find_element(by='name',value='password')\n",
    "password_field"
   ]
  },
  {
   "cell_type": "code",
   "execution_count": null,
   "id": "fb29567c-e6d4-418f-8556-1ce9441d3b30",
   "metadata": {},
   "outputs": [],
   "source": [
    "# Use your secret file\n",
    "username_field.send_keys(login_dict['username'])"
   ]
  },
  {
   "cell_type": "code",
   "execution_count": null,
   "id": "7f2c08cf-193d-407c-9d3b-aa7e5488b8b9",
   "metadata": {},
   "outputs": [],
   "source": [
    "# Use your secret file\n",
    "password_field.send_keys(login_dict['password'])"
   ]
  },
  {
   "cell_type": "code",
   "execution_count": null,
   "id": "67e4ad6d-d893-472d-a276-913a1001b9a0",
   "metadata": {},
   "outputs": [],
   "source": [
    "# Path for button ---go to site, inspect to find the button, then copy > Xpath\n",
    "xpath = '//*[@id=\"login_container\"]/div[1]/form/button'\n",
    "\n",
    "#//*[@id=\"login_container\"]/div[1]/form/button\n",
    "login_button = driver.find_element(by = 'xpath', value = xpath)\n",
    "login_button"
   ]
  },
  {
   "cell_type": "code",
   "execution_count": null,
   "id": "71245e6c-79a4-4755-8fc3-b0ef42f77e73",
   "metadata": {},
   "outputs": [],
   "source": [
    "login_button.click()"
   ]
  },
  {
   "cell_type": "code",
   "execution_count": null,
   "id": "1d2eedc4-fd3b-4ed4-ac7b-e1dad899a037",
   "metadata": {},
   "outputs": [],
   "source": [
    "# Allow time for site to open\n",
    "time.sleep(5)"
   ]
  },
  {
   "cell_type": "code",
   "execution_count": null,
   "id": "a0fea831-4c89-4e86-be9f-b0a41c01f69a",
   "metadata": {},
   "outputs": [],
   "source": [
    "# Now let's click on \"Go to Courses\"\n",
    "#xpath = '//*[@id=\"goto_button\"]'\n",
    "xpath ='//*[@id=\"goto_button\"]'\n",
    "course_button = driver.find_element(by = 'xpath', value = xpath)"
   ]
  },
  {
   "cell_type": "code",
   "execution_count": null,
   "id": "f6670762-cc2f-4abc-832c-5dfadec350f0",
   "metadata": {},
   "outputs": [],
   "source": [
    "course_button.click()"
   ]
  },
  {
   "cell_type": "code",
   "execution_count": null,
   "id": "ec1df52d-3d94-4543-ac49-1791f262efdf",
   "metadata": {},
   "outputs": [],
   "source": [
    "# Allow time for site to open\n",
    "time.sleep(5)"
   ]
  },
  {
   "cell_type": "code",
   "execution_count": null,
   "id": "a395ee7c-0a52-43db-9907-61f1ce3ad54c",
   "metadata": {},
   "outputs": [],
   "source": [
    "# Now let's open the Advanced Machine learning v23 course\n",
    "xpath = '//*[@id=\"track_id_692\"]/ul/li[1]/button/span'\n",
    "aml_button = driver.find_element(by = 'xpath', value = xpath)"
   ]
  },
  {
   "cell_type": "code",
   "execution_count": null,
   "id": "cdd92931-c3d3-4ec1-abaf-e4989491ed9a",
   "metadata": {},
   "outputs": [],
   "source": [
    "aml_button.click()"
   ]
  },
  {
   "cell_type": "code",
   "execution_count": null,
   "id": "a797386c-9b85-4f30-95e1-58bf5c1770e2",
   "metadata": {},
   "outputs": [],
   "source": [
    "# Now that we have accessed the desired page, make a soup object\n",
    "from bs4 import BeautifulSoup\n",
    "soup = BeautifulSoup(driver.page_source)\n",
    "print(soup.prettify()[:500])"
   ]
  },
  {
   "cell_type": "code",
   "execution_count": null,
   "id": "21064f93-8d33-4705-a926-cb93123a58a6",
   "metadata": {},
   "outputs": [],
   "source": [
    "# Close the driver if you are finished using it\n",
    "driver.quit()"
   ]
  },
  {
   "cell_type": "code",
   "execution_count": null,
   "id": "72ae006f-e7fa-4f24-96fd-28c40a35c19e",
   "metadata": {},
   "outputs": [],
   "source": [
    "# Use inspect tool to find the sidebar\n",
    "sidebar = soup.find('aside', id = 'module_sidebar_container')\n",
    "sidebar"
   ]
  },
  {
   "cell_type": "code",
   "execution_count": null,
   "id": "cbd33e65-d401-4ed0-902f-a185d5e3fc0f",
   "metadata": {},
   "outputs": [],
   "source": [
    "# An easier example to get started\n",
    "h2_header = sidebar.find('h2')\n",
    "h2_header"
   ]
  },
  {
   "cell_type": "code",
   "execution_count": null,
   "id": "59e9472f-8bb0-47c8-8f73-bd35ffcc163a",
   "metadata": {},
   "outputs": [],
   "source": [
    "# Find all module names\n",
    "modules = sidebar.find_all('span', {'class' : 'module_name'})"
   ]
  },
  {
   "cell_type": "code",
   "execution_count": null,
   "id": "f22f0f0b-f563-44bb-b664-e82887359e24",
   "metadata": {},
   "outputs": [],
   "source": [
    "# How many modules were found?\n",
    "len(modules)"
   ]
  },
  {
   "cell_type": "code",
   "execution_count": null,
   "id": "3a05e28b-b72e-46e1-b77b-102097d99800",
   "metadata": {},
   "outputs": [],
   "source": [
    "# Explore the first module\n",
    "modules[0]"
   ]
  },
  {
   "cell_type": "code",
   "execution_count": null,
   "id": "7e4d63e3-c3bb-4b96-9e5d-16c97db37d52",
   "metadata": {},
   "outputs": [],
   "source": [
    "# Limit the module to text only\n",
    "modules[0].text"
   ]
  },
  {
   "cell_type": "code",
   "execution_count": null,
   "id": "b04b0863-7854-43cf-9115-def0a6337e0b",
   "metadata": {},
   "outputs": [],
   "source": [
    "# Make a list of modules with text only\n",
    "list_of_modules = [module.text for module in modules]\n"
   ]
  },
  {
   "cell_type": "code",
   "execution_count": null,
   "id": "dab6bb20-2cc7-4c52-987e-e3d43f20d729",
   "metadata": {},
   "outputs": [],
   "source": [
    "# Display the results\n",
    "list_of_modules"
   ]
  },
  {
   "cell_type": "code",
   "execution_count": null,
   "id": "22430269-f430-4d93-bf04-9b50af4162aa",
   "metadata": {},
   "outputs": [],
   "source": []
  }
 ],
 "metadata": {
  "kernelspec": {
   "display_name": "Python (dojo-env)",
   "language": "python",
   "name": "dojo-env"
  },
  "language_info": {
   "codemirror_mode": {
    "name": "ipython",
    "version": 3
   },
   "file_extension": ".py",
   "mimetype": "text/x-python",
   "name": "python",
   "nbconvert_exporter": "python",
   "pygments_lexer": "ipython3",
   "version": "3.10.10"
  },
  "widgets": {
   "application/vnd.jupyter.widget-state+json": {
    "state": {},
    "version_major": 2,
    "version_minor": 0
   }
  }
 },
 "nbformat": 4,
 "nbformat_minor": 5
}
