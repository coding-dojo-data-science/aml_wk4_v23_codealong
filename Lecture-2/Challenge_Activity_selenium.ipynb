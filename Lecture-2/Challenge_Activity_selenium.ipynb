{
 "cells": [
  {
   "cell_type": "markdown",
   "id": "0bd173cc-3b07-4f8a-8489-29245118d3c3",
   "metadata": {},
   "source": [
    "## Hockey Scraping Activity\n",
    "Use Selium to go to home page: https://www.scrapethissite.com/pages/forms/ \n",
    "\n",
    "Automate entry into the search box for \"Detroit Red Wings\"\n",
    "\n",
    "Scrape the table headers and data and create a pandas dataframe\n",
    "\n",
    "Answer: How many wins did the Detroit Red Wings have from 1990-2011?"
   ]
  },
  {
   "cell_type": "code",
   "execution_count": null,
   "id": "ccf36800-4fd7-4cce-b1bd-c836baf50acb",
   "metadata": {},
   "outputs": [],
   "source": [
    "import pandas as pd\n",
    "import time\n",
    "from bs4 import BeautifulSoup\n",
    "from selenium import webdriver\n",
    "from selenium.webdriver.chrome.service import Service"
   ]
  },
  {
   "cell_type": "markdown",
   "id": "e0c8a6ad-cffa-46d3-aac9-45e7928e9067",
   "metadata": {},
   "source": [
    "Here's an analogy:\r\n",
    "\r\n",
    "Think of the service object as a car engine. It runs independently and manages various technical aspects, but it doesn't actually drive the car.\r\n",
    "The webdriver object is like the driver's seat and steering wheel. It interacts with the engine (service object) to control the car (browser) and navigate the road (webpages).\r\n",
    "In Summary:\r\n",
    "\r\n",
    "The service object manages the technical aspects of running ChromeDriver.\r\n",
    "The webdriver object allows you to interact with and control the Chrome browser.\r\n",
    "Both work together to enable web automation with Selenium."
   ]
  },
  {
   "cell_type": "code",
   "execution_count": null,
   "id": "89c46413-76d0-49a3-9d02-e49adb58dc79",
   "metadata": {},
   "outputs": [],
   "source": [
    "# Prepare the ChromeDriver service instance\n",
    "# chrome_executable = Service(executable_path=\"./chromedriver\", log_path=None)\n",
    "\n",
    "# driver = webdriver.Chrome()\n",
    "\n",
    "# if you are not able to get the correct version of you chrome browser you can also use this workaround\n",
    "\n",
    "from webdriver_manager.chrome import ChromeDriverManager\n",
    "# Iniate the driver object\n",
    "\n",
    "driver = webdriver.Chrome(service=Service(executable_path = ChromeDriverManager().install(),log_path=None))"
   ]
  },
  {
   "cell_type": "code",
   "execution_count": null,
   "id": "fc962422-f559-49ae-ab09-15d312950cb1",
   "metadata": {},
   "outputs": [],
   "source": [
    "driver.get('https://www.scrapethissite.com/pages/forms/')"
   ]
  },
  {
   "cell_type": "code",
   "execution_count": null,
   "id": "e5758a0d-b00c-4667-9986-78751742516b",
   "metadata": {},
   "outputs": [],
   "source": [
    "# Locate the Search box and copy its xpath\n",
    "xpath = None\n",
    "\n",
    "search_box = driver.find_element(by = 'xpath', value = xpath)\n",
    "search_box"
   ]
  },
  {
   "cell_type": "code",
   "execution_count": null,
   "id": "0519c7fd-8659-4349-98dd-a06cb35588aa",
   "metadata": {},
   "outputs": [],
   "source": [
    "# Enter detroit red wings in the search box\n",
    "search_box.send_keys('None')"
   ]
  },
  {
   "cell_type": "code",
   "execution_count": null,
   "id": "f2617fe8-c624-4b7d-98d3-bc74202a5532",
   "metadata": {},
   "outputs": [],
   "source": [
    "# Submit your entry\n",
    "search_box.submit()"
   ]
  },
  {
   "cell_type": "code",
   "execution_count": null,
   "id": "4b9601ae-0536-4aca-8049-baad3551d197",
   "metadata": {},
   "outputs": [],
   "source": [
    "html = driver.page_source\n",
    "html"
   ]
  },
  {
   "cell_type": "code",
   "execution_count": null,
   "id": "159cc33a-bbe8-4cc5-b5b8-e043bfd0c66d",
   "metadata": {},
   "outputs": [],
   "source": [
    "# make soup object from html\n",
    "soup = BeautifulSoup(html)\n",
    "print(soup.prettify()[:500])"
   ]
  },
  {
   "cell_type": "code",
   "execution_count": null,
   "id": "642d7b3f-0bf6-426b-afdf-1daec7ea0885",
   "metadata": {},
   "outputs": [],
   "source": [
    "table = soup.find('table')\n",
    "table"
   ]
  },
  {
   "cell_type": "code",
   "execution_count": null,
   "id": "51adb15a-fcc4-4e02-8ff7-5165b9f0a3ec",
   "metadata": {},
   "outputs": [],
   "source": [
    "# Find the total records/row in the table\n",
    "rows = None\n",
    "len(rows)"
   ]
  },
  {
   "cell_type": "code",
   "execution_count": null,
   "id": "1a40cde0-d3f6-45b9-9918-3b62f0af0526",
   "metadata": {},
   "outputs": [],
   "source": [
    "# The first row is the header row. Get the first row\n",
    "header_row = None\n",
    "header_row"
   ]
  },
  {
   "cell_type": "code",
   "execution_count": null,
   "id": "269c1e36-e4c7-448c-9f9f-649c63c03837",
   "metadata": {},
   "outputs": [],
   "source": [
    "# Extract the column names from the header row\n",
    "column_names = None\n",
    "column_names"
   ]
  },
  {
   "cell_type": "code",
   "execution_count": null,
   "id": "f52af182-a08a-43c3-b659-5b6e6cb7e700",
   "metadata": {},
   "outputs": [],
   "source": [
    "# Make a list of column names with text only\n",
    "list_of_column_names = [column_name.text.strip() for column_name in column_names]\n",
    "list_of_column_names"
   ]
  },
  {
   "cell_type": "code",
   "execution_count": null,
   "id": "d2b604e5-eda0-41d0-a68f-7aa0f92d4eb2",
   "metadata": {},
   "outputs": [],
   "source": [
    "# Now get the data for a single row\n",
    "data_row_1 = rows[1].find_all('td')\n",
    "data_row_1\n"
   ]
  },
  {
   "cell_type": "code",
   "execution_count": null,
   "id": "a2d8f35a-ab29-46b3-a367-5bd75c2bec1b",
   "metadata": {},
   "outputs": [],
   "source": [
    "# Get text only\n",
    "data_row_1_text = [cell.text.strip() for cell in data_row_1]\n",
    "data_row_1_text"
   ]
  },
  {
   "cell_type": "code",
   "execution_count": null,
   "id": "42566235-5839-416d-be99-c40ea90a30f2",
   "metadata": {},
   "outputs": [],
   "source": [
    "# Now we will create a loop to extract the data from each row\n",
    "\n",
    "# Instantiate an empty list\n",
    "row_data = []\n",
    "\n",
    "# Now make a loop to repeat for each row\n",
    "for data_row in rows[1:]: # Start at index 1 to skip the header row\n",
    "    None\n",
    "\n",
    "# display result\n",
    "row_data"
   ]
  },
  {
   "cell_type": "code",
   "execution_count": null,
   "id": "21f2bc42-8228-4f68-a019-9535440eb273",
   "metadata": {},
   "outputs": [],
   "source": [
    "# Make a dataframe from the row data and the list of column names\n",
    "df = pd.DataFrame(row_data, columns=list_of_column_names)\n",
    "df.head()"
   ]
  },
  {
   "cell_type": "code",
   "execution_count": null,
   "id": "34502152-480d-49d5-9365-ff68b3baa9cf",
   "metadata": {},
   "outputs": [],
   "source": [
    "df.info()"
   ]
  },
  {
   "cell_type": "code",
   "execution_count": null,
   "id": "9d0731bf-cc93-4ee2-bdf0-e06d0a54add7",
   "metadata": {},
   "outputs": [],
   "source": []
  },
  {
   "cell_type": "code",
   "execution_count": null,
   "id": "63a4cffb-2f3b-42b6-a987-52e4eefc579f",
   "metadata": {},
   "outputs": [],
   "source": [
    "# What is the total number of wins for Detroit from 1990-2011?\n"
   ]
  },
  {
   "cell_type": "code",
   "execution_count": null,
   "id": "d3564d35-7ab8-4192-a49d-3008f1f798f3",
   "metadata": {},
   "outputs": [],
   "source": []
  },
  {
   "cell_type": "code",
   "execution_count": null,
   "id": "557ad109-c846-47fc-9c8d-cac7268b0582",
   "metadata": {},
   "outputs": [],
   "source": []
  },
  {
   "cell_type": "code",
   "execution_count": null,
   "id": "5d135ce1-f9ac-4a00-9f77-4673398fca40",
   "metadata": {},
   "outputs": [],
   "source": []
  }
 ],
 "metadata": {
  "kernelspec": {
   "display_name": "Python 3 (ipykernel)",
   "language": "python",
   "name": "python3"
  },
  "language_info": {
   "codemirror_mode": {
    "name": "ipython",
    "version": 3
   },
   "file_extension": ".py",
   "mimetype": "text/x-python",
   "name": "python",
   "nbconvert_exporter": "python",
   "pygments_lexer": "ipython3",
   "version": "3.10.10"
  },
  "widgets": {
   "application/vnd.jupyter.widget-state+json": {
    "state": {},
    "version_major": 2,
    "version_minor": 0
   }
  }
 },
 "nbformat": 4,
 "nbformat_minor": 5
}
