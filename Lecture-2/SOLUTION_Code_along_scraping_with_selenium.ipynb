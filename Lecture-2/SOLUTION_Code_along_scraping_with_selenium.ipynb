{
 "cells": [
  {
   "cell_type": "markdown",
   "id": "9ba27206-4c4a-4d6d-90af-1c00a13ae930",
   "metadata": {},
   "source": [
    "# Webscraping with Selenium\n",
    "- Be sure you have your codingdojo login information saved in a secret file! (Review: https://login.codingdojo.com/m/689/16349/121272)\n",
    "- Use selenium to:\n",
    "    login to the coding dojo website and ultimately create a list of all modules in week 1 of the Advanced ML course"
   ]
  },
  {
   "cell_type": "code",
   "execution_count": 1,
   "id": "c0c730c9-9d60-4c90-97e7-6e2c9fbcefab",
   "metadata": {},
   "outputs": [
    {
     "data": {
      "text/plain": [
       "dict_keys(['email', 'password'])"
      ]
     },
     "execution_count": 1,
     "metadata": {},
     "output_type": "execute_result"
    }
   ],
   "source": [
    "# Use your local filepath here (use your name in place of \"brend\" and use the name you gave to your .json file in place of dojo_login.json)\n",
    "import json\n",
    "with open (\"/Users/brend/.secret/dojo_login.json\") as f:\n",
    "    login_dict = json.load(f)\n",
    "login_dict.keys()"
   ]
  },
  {
   "cell_type": "code",
   "execution_count": 2,
   "id": "a79fdc54-ddc7-4c91-9030-055c52d90032",
   "metadata": {},
   "outputs": [],
   "source": [
    "import time\n",
    "\n",
    "\n",
    "# from selenium import webdriver\n",
    "# from selenium.webdriver.chrome.service import Service"
   ]
  },
  {
   "cell_type": "code",
   "execution_count": 3,
   "id": "70fceda9-71d1-4fe9-a10c-9168fa10324a",
   "metadata": {},
   "outputs": [
    {
     "name": "stderr",
     "output_type": "stream",
     "text": [
      "The version of firefox cannot be detected. Trying with latest driver version\n"
     ]
    }
   ],
   "source": [
    "# chrome_executable = Service(executable_path=\"./chromedriver\", log_path=None)\n",
    "# driver = webdriver.Chrome()\n",
    "# if you are not able to get the correct version of you chrome browser you can also use this workaround\n",
    "\n",
    "# from webdriver_manager.chrome import ChromeDriverManager\n",
    "\n",
    "# driver = webdriver.Chrome(service=Service(executable_path = ChromeDriverManager().install(),log_path=None))\n",
    "\n",
    "from selenium import webdriver\n",
    "from selenium.webdriver.firefox.service import Service\n",
    "firebox_executable = Service(executable_path=\"./geckodriver\", log_path = None)\n",
    "driver = webdriver.Firefox()"
   ]
  },
  {
   "cell_type": "code",
   "execution_count": 4,
   "id": "a18d66bd-db8b-49f9-9e53-c57d61862941",
   "metadata": {},
   "outputs": [],
   "source": [
    "driver.get('https://login.codingdojo.com/dashboard')"
   ]
  },
  {
   "cell_type": "code",
   "execution_count": 5,
   "id": "f206d52e-92fd-4c69-8431-c796d52bbe8b",
   "metadata": {},
   "outputs": [
    {
     "data": {
      "text/plain": [
       "<selenium.webdriver.remote.webelement.WebElement (session=\"d0dd02e9-a6b0-49a1-be1d-1d12c3645e1d\", element=\"26de3a79-c077-44c4-b756-2dafbdeafc87\")>"
      ]
     },
     "execution_count": 5,
     "metadata": {},
     "output_type": "execute_result"
    }
   ],
   "source": [
    "# Option 1: Use by 'id' with value 'username'\n",
    "username_field = driver.find_element(by='name', value='email')\n",
    "username_field"
   ]
  },
  {
   "cell_type": "code",
   "execution_count": 6,
   "id": "f09998ed-1133-4bc2-97bb-16c18edbf4d2",
   "metadata": {},
   "outputs": [
    {
     "data": {
      "text/plain": [
       "<selenium.webdriver.remote.webelement.WebElement (session=\"d0dd02e9-a6b0-49a1-be1d-1d12c3645e1d\", element=\"6fc72548-454d-4c6b-ad27-13a9f4fb9d86\")>"
      ]
     },
     "execution_count": 6,
     "metadata": {},
     "output_type": "execute_result"
    }
   ],
   "source": [
    "# Identify the password field by 'id' with value 'password'\n",
    "password_field = driver.find_element(by='name',value='password')\n",
    "password_field"
   ]
  },
  {
   "cell_type": "code",
   "execution_count": 7,
   "id": "fb29567c-e6d4-418f-8556-1ce9441d3b30",
   "metadata": {},
   "outputs": [],
   "source": [
    "# Use your secret file\n",
    "username_field.send_keys(login_dict['email'])"
   ]
  },
  {
   "cell_type": "code",
   "execution_count": 8,
   "id": "7f2c08cf-193d-407c-9d3b-aa7e5488b8b9",
   "metadata": {},
   "outputs": [],
   "source": [
    "# Use your secret file\n",
    "password_field.send_keys(login_dict['password'])"
   ]
  },
  {
   "cell_type": "code",
   "execution_count": 9,
   "id": "67e4ad6d-d893-472d-a276-913a1001b9a0",
   "metadata": {},
   "outputs": [
    {
     "data": {
      "text/plain": [
       "<selenium.webdriver.remote.webelement.WebElement (session=\"d0dd02e9-a6b0-49a1-be1d-1d12c3645e1d\", element=\"c155601a-7754-44a8-803a-c7385a8c996a\")>"
      ]
     },
     "execution_count": 9,
     "metadata": {},
     "output_type": "execute_result"
    }
   ],
   "source": [
    "# Path for button ---go to site, inspect to find the button, then copy > Xpath\n",
    "xpath = '//*[@id=\"login_container\"]/div[1]/form/button'\n",
    "\n",
    "login_button = driver.find_element(by = 'xpath', value = xpath)\n",
    "login_button"
   ]
  },
  {
   "cell_type": "code",
   "execution_count": 10,
   "id": "71245e6c-79a4-4755-8fc3-b0ef42f77e73",
   "metadata": {},
   "outputs": [],
   "source": [
    "login_button.click()"
   ]
  },
  {
   "cell_type": "code",
   "execution_count": 11,
   "id": "1d2eedc4-fd3b-4ed4-ac7b-e1dad899a037",
   "metadata": {},
   "outputs": [],
   "source": [
    "# Allow time for site to open\n",
    "time.sleep(10)"
   ]
  },
  {
   "cell_type": "code",
   "execution_count": 12,
   "id": "a0fea831-4c89-4e86-be9f-b0a41c01f69a",
   "metadata": {},
   "outputs": [],
   "source": [
    "# Now let's click on \"Go to Courses\"\n",
    "#xpath = '//*[@id=\"goto_button\"]'\n",
    "xpath ='//*[@id=\"goto_button\"]'\n",
    "course_button = driver.find_element(by = 'xpath', value = xpath)"
   ]
  },
  {
   "cell_type": "code",
   "execution_count": 13,
   "id": "f6670762-cc2f-4abc-832c-5dfadec350f0",
   "metadata": {},
   "outputs": [],
   "source": [
    "course_button.click()"
   ]
  },
  {
   "cell_type": "code",
   "execution_count": 14,
   "id": "ec1df52d-3d94-4543-ac49-1791f262efdf",
   "metadata": {},
   "outputs": [],
   "source": [
    "# Allow time for site to open\n",
    "time.sleep(10)"
   ]
  },
  {
   "cell_type": "code",
   "execution_count": 15,
   "id": "a395ee7c-0a52-43db-9907-61f1ce3ad54c",
   "metadata": {},
   "outputs": [],
   "source": [
    "# Now let's open the Advanced Machine learning v23 course\n",
    "xpath = '//*[@id=\"track_id_692\"]/ul/li[1]/button/span'\n",
    "aml_button = driver.find_element(by = 'xpath', value = xpath)"
   ]
  },
  {
   "cell_type": "code",
   "execution_count": 16,
   "id": "ebe05e33-24ea-4021-b3d5-305ebddf542c",
   "metadata": {},
   "outputs": [],
   "source": [
    "# Allow time for site to open\n",
    "time.sleep(10)"
   ]
  },
  {
   "cell_type": "code",
   "execution_count": 17,
   "id": "cdd92931-c3d3-4ec1-abaf-e4989491ed9a",
   "metadata": {},
   "outputs": [],
   "source": [
    "aml_button.click()"
   ]
  },
  {
   "cell_type": "code",
   "execution_count": 18,
   "id": "a797386c-9b85-4f30-95e1-58bf5c1770e2",
   "metadata": {},
   "outputs": [
    {
     "name": "stdout",
     "output_type": "stream",
     "text": [
      "<html lang=\"en\">\n",
      " <head>\n",
      "  <meta charset=\"utf-8\"/>\n",
      "  <style type=\"text/css\">\n",
      "   svg:not(:root).svg-inline--fa {\n",
      "  overflow: visible;\n",
      "}\n",
      "\n",
      ".svg-inline--fa {\n",
      "  display: inline-block;\n",
      "  font-size: inherit;\n",
      "  height: 1em;\n",
      "  overflow: visible;\n",
      "  vertical-align: -0.125em;\n",
      "}\n",
      ".svg-inline--fa.fa-lg {\n",
      "  vertical-align: -0.225em;\n",
      "}\n",
      ".svg-inline--fa.fa-w-1 {\n",
      "  width: 0.0625em;\n",
      "}\n",
      ".svg-inline--fa.fa-w-2 {\n",
      "  width: 0.125em;\n",
      "}\n",
      ".svg-inline--fa.fa-w-3 {\n",
      "  width: 0.1875em;\n",
      "}\n",
      ".svg-inline--fa.fa-w-4 {\n",
      "  width: 0.25em;\n",
      "\n"
     ]
    }
   ],
   "source": [
    "# Now that we have accessed the desired page, make a soup object\n",
    "from bs4 import BeautifulSoup\n",
    "soup = BeautifulSoup(driver.page_source)\n",
    "print(soup.prettify()[:500])"
   ]
  },
  {
   "cell_type": "code",
   "execution_count": 19,
   "id": "21064f93-8d33-4705-a926-cb93123a58a6",
   "metadata": {},
   "outputs": [],
   "source": [
    "# # Close the driver if you are finished using it\n",
    "# driver.quit()"
   ]
  },
  {
   "cell_type": "code",
   "execution_count": 20,
   "id": "72ae006f-e7fa-4f24-96fd-28c40a35c19e",
   "metadata": {},
   "outputs": [
    {
     "data": {
      "text/plain": [
       "<aside class=\"left_container\" id=\"module_sidebar_container\" style=\"max-height: 610px; position: sticky; top: 20px;\"><h2>ADVANCED MACHINE LEARNING</h2><span class=\"track_alias\">(ADVANCED MACHINE LEARNING v23 PT)</span><button id=\"toggle_collapse_sidebar_btn\"><svg aria-hidden=\"true\" class=\"svg-inline--fa fa-caret-left fa-w-6\" data-icon=\"caret-left\" data-prefix=\"fas\" focusable=\"false\" role=\"img\" viewbox=\"0 0 192 512\" xmlns=\"http://www.w3.org/2000/svg\"><path d=\"M192 127.338v257.324c0 17.818-21.543 26.741-34.142 14.142L29.196 270.142c-7.81-7.81-7.81-20.474 0-28.284l128.662-128.662c12.599-12.6 34.142-3.676 34.142 14.142z\" fill=\"currentColor\"></path></svg></button><div id=\"course_navigation_container\"><a class=\"visibility_hidden\" href=\"\"><svg aria-hidden=\"true\" class=\"svg-inline--fa fa-chevron-left fa-w-10\" data-icon=\"chevron-left\" data-prefix=\"fas\" focusable=\"false\" role=\"img\" viewbox=\"0 0 320 512\" xmlns=\"http://www.w3.org/2000/svg\"><path d=\"M34.52 239.03L228.87 44.69c9.37-9.37 24.57-9.37 33.94 0l22.67 22.67c9.36 9.36 9.37 24.52.04 33.9L131.49 256l154.02 154.75c9.34 9.38 9.32 24.54-.04 33.9l-22.67 22.67c-9.37 9.37-24.57 9.37-33.94 0L34.52 272.97c-9.37-9.37-9.37-24.57 0-33.94z\" fill=\"currentColor\"></path></svg></a><div><img alt=\"Course Icon\" src=\"https://assets.codingdojo.com/boomyeah2015/codingdojo/course_icons/resume.png\"/><span>Advanced Machine Learning v23</span></div><a class=\"false\" href=\"/m/692/13909/99059\"><svg aria-hidden=\"true\" class=\"svg-inline--fa fa-chevron-right fa-w-10\" data-icon=\"chevron-right\" data-prefix=\"fas\" focusable=\"false\" role=\"img\" viewbox=\"0 0 320 512\" xmlns=\"http://www.w3.org/2000/svg\"><path d=\"M285.476 272.971L91.132 467.314c-9.373 9.373-24.569 9.373-33.941 0l-22.667-22.667c-9.357-9.357-9.375-24.522-.04-33.901L188.505 256 34.484 101.255c-9.335-9.379-9.317-24.544.04-33.901l22.667-22.667c9.373-9.373 24.569-9.373 33.941 0L285.475 239.03c9.373 9.372 9.373 24.568.001 33.941z\" fill=\"currentColor\"></path></svg></a></div><div class=\"accordion\"><div class=\"card\"><div class=\"card-header\"><a class=\"chapter_name\" href=\"/m/692/16501/122780\"><span>Wk 1: NLP</span><svg aria-hidden=\"true\" class=\"svg-inline--fa fa-caret-up fa-w-10\" data-icon=\"caret-up\" data-prefix=\"fas\" focusable=\"false\" role=\"img\" viewbox=\"0 0 320 512\" xmlns=\"http://www.w3.org/2000/svg\"><path d=\"M288.662 352H31.338c-17.818 0-26.741-21.543-14.142-34.142l128.662-128.662c7.81-7.81 20.474-7.81 28.284 0l128.662 128.662c12.6 12.599 3.676 34.142-14.142 34.142z\" fill=\"currentColor\"></path></svg></a></div><div class=\"collapse show\"><div class=\"card-body\"><ul class=\"list-unstyled\"><li class=\"lesson active completed\"><a href=\"/m/692/16501/122780\"><span class=\"icon_container\"><i class=\"module_icon\"></i></span><span class=\"module_name\">Intro to NLP</span><span class=\"completed_icon\"></span></a></li><li class=\"lesson completed\"><a href=\"/m/692/16501/122995\"><span class=\"icon_container\"><i class=\"module_icon\"></i></span><span class=\"module_name\">Working with Strings</span><span class=\"completed_icon\"></span></a></li><li class=\"lesson completed\"><a href=\"/m/692/16501/122996\"><span class=\"icon_container\"><i class=\"module_icon\"></i></span><span class=\"module_name\">Regular Expressions</span><span class=\"completed_icon\"></span></a></li><li class=\"assignment_practice completed\"><a href=\"/m/692/16501/122997\"><span class=\"icon_container\"><i class=\"module_icon\"></i></span><span class=\"module_name\">Working with Regex(Practice) </span><span class=\"completed_icon\"></span></a></li><li class=\"lesson completed\"><a href=\"/m/692/16501/123773\"><span class=\"icon_container\"><i class=\"module_icon\"></i></span><span class=\"module_name\">Word Cloud</span><span class=\"completed_icon\"></span></a></li><li class=\"assignment_practice completed\"><a href=\"/m/692/16501/124360\"><span class=\"icon_container\"><i class=\"module_icon\"></i></span><span class=\"module_name\">Word Cloud (Practice)</span><span class=\"completed_icon\"></span></a></li><li class=\"lesson completed\"><a href=\"/m/692/16501/122998\"><span class=\"icon_container\"><i class=\"module_icon\"></i></span><span class=\"module_name\">Tokenization NLTK</span><span class=\"completed_icon\"></span></a></li><li class=\"quiz completed\"><a href=\"/m/692/16501/124930\"><span class=\"icon_container\"><i class=\"module_icon\"></i></span><span class=\"module_name\">Knowledge Check #21.1</span><span class=\"completed_icon\"></span></a></li><li class=\"lesson completed\"><a href=\"/m/692/16501/124262\"><span class=\"icon_container\"><i class=\"module_icon\"></i></span><span class=\"module_name\">Frequency Distribution</span><span class=\"completed_icon\"></span></a></li><li class=\"lesson completed\"><a href=\"/m/692/16501/123982\"><span class=\"icon_container\"><i class=\"module_icon\"></i></span><span class=\"module_name\">Stemming and Lemmatization</span><span class=\"completed_icon\"></span></a></li><li class=\"lesson completed\"><a href=\"/m/692/16501/123001\"><span class=\"icon_container\"><i class=\"module_icon\"></i></span><span class=\"module_name\">NLP with Spacy</span><span class=\"completed_icon\"></span></a></li><li class=\"assignment_practice completed\"><a href=\"/m/692/16501/124942\"><span class=\"icon_container\"><i class=\"module_icon\"></i></span><span class=\"module_name\">SpaCy and FreqDist (Practice)</span><span class=\"completed_icon\"></span></a></li><li class=\"lesson completed\"><a href=\"/m/692/16501/122999\"><span class=\"icon_container\"><i class=\"module_icon\"></i></span><span class=\"module_name\">Text in a Dataframe</span><span class=\"completed_icon\"></span></a></li><li class=\"quiz completed\"><a href=\"/m/692/16501/124931\"><span class=\"icon_container\"><i class=\"module_icon\"></i></span><span class=\"module_name\">Knowledge Check #21.2</span><span class=\"completed_icon\"></span></a></li><li class=\"lesson completed\"><a href=\"/m/692/16501/124205\"><span class=\"icon_container\"><i class=\"module_icon\"></i></span><span class=\"module_name\">Comparing Groups: Word Clouds</span><span class=\"completed_icon\"></span></a></li><li class=\"lesson completed\"><a href=\"/m/692/16501/124385\"><span class=\"icon_container\"><i class=\"module_icon\"></i></span><span class=\"module_name\">Comparing Groups: Frequency Distributions</span><span class=\"completed_icon\"></span></a></li><li class=\"lesson completed\"><a href=\"/m/692/16501/124388\"><span class=\"icon_container\"><i class=\"module_icon\"></i></span><span class=\"module_name\">Comparing Groups: N-grams</span><span class=\"completed_icon\"></span></a></li><li class=\"assignment completed\"><a href=\"/m/692/16501/124267\"><span class=\"icon_container\"><i class=\"module_icon\"></i></span><span class=\"module_name\">Comparing Texts (Core)</span><span class=\"completed_icon\"></span></a></li><li class=\"lesson completed\"><a href=\"/m/692/16501/123007\"><span class=\"icon_container\"><i class=\"module_icon\"></i></span><span class=\"module_name\">Sentiment Analysis</span><span class=\"completed_icon\"></span></a></li><li class=\"lesson completed\"><a href=\"/m/692/16501/124252\"><span class=\"icon_container\"><i class=\"module_icon\"></i></span><span class=\"module_name\">Customizing nlp Pipeline</span><span class=\"completed_icon\"></span></a></li><li class=\"lesson completed\"><a href=\"/m/692/16501/124253\"><span class=\"icon_container\"><i class=\"module_icon\"></i></span><span class=\"module_name\">Scattertext</span><span class=\"completed_icon\"></span></a></li><li class=\"lesson completed\"><a href=\"/m/692/16501/123004\"><span class=\"icon_container\"><i class=\"module_icon\"></i></span><span class=\"module_name\">Vectorization</span><span class=\"completed_icon\"></span></a></li><li class=\"quiz completed\"><a href=\"/m/692/16501/124932\"><span class=\"icon_container\"><i class=\"module_icon\"></i></span><span class=\"module_name\">Knowledge Check #21.3</span><span class=\"completed_icon\"></span></a></li><li class=\"lesson completed\"><a href=\"/m/692/16501/123003\"><span class=\"icon_container\"><i class=\"module_icon\"></i></span><span class=\"module_name\">Text Classification with sklearn</span><span class=\"completed_icon\"></span></a></li><li class=\"lesson completed\"><a href=\"/m/692/16501/124273\"><span class=\"icon_container\"><i class=\"module_icon\"></i></span><span class=\"module_name\">Naive Bayes</span><span class=\"completed_icon\"></span></a></li><li class=\"assignment_practice completed\"><a href=\"/m/692/16501/124943\"><span class=\"icon_container\"><i class=\"module_icon\"></i></span><span class=\"module_name\">Naive Bayes (Practice)</span><span class=\"completed_icon\"></span></a></li><li class=\"lesson completed\"><a href=\"/m/692/16501/124290\"><span class=\"icon_container\"><i class=\"module_icon\"></i></span><span class=\"module_name\">Advanced GridSearchCV</span><span class=\"completed_icon\"></span></a></li><li class=\"assignment completed\"><a href=\"/m/692/16501/124268\"><span class=\"icon_container\"><i class=\"module_icon\"></i></span><span class=\"module_name\">Text Classification with Sklearn (Core)</span><span class=\"completed_icon\"></span></a></li><li class=\"assignment completed\"><a href=\"/m/692/16501/124269\"><span class=\"icon_container\"><i class=\"module_icon\"></i></span><span class=\"module_name\">Project 2 - Part 5 (Core)</span><span class=\"completed_icon\"></span></a></li><li class=\"chapter_survey completed\"><a href=\"/m/692/16501/survey\"><span class=\"icon_container\"><i class=\"module_icon\"></i></span><span class=\"module_name\">Chapter Survey</span><span class=\"completed_icon\"></span></a></li></ul></div></div></div><div class=\"card\"><div class=\"card-header\"><a class=\"chapter_name\" href=\"/m/692/16502/125434\"><span>Wk 2: RNNs &amp; Deep NLP</span><svg aria-hidden=\"true\" class=\"svg-inline--fa fa-caret-down fa-w-10\" data-icon=\"caret-down\" data-prefix=\"fas\" focusable=\"false\" role=\"img\" viewbox=\"0 0 320 512\" xmlns=\"http://www.w3.org/2000/svg\"><path d=\"M31.3 192h257.3c17.8 0 26.7 21.5 14.1 34.1L174.1 354.8c-7.8 7.8-20.5 7.8-28.3 0L17.2 226.1C4.6 213.5 13.5 192 31.3 192z\" fill=\"currentColor\"></path></svg></a></div><div class=\"collapse\"><div class=\"card-body\"><ul class=\"list-unstyled\"></ul></div></div></div><div class=\"card\"><div class=\"card-header\"><a class=\"chapter_name\" href=\"/m/692/16503/122782\"><span>Belt Exam Prep</span><svg aria-hidden=\"true\" class=\"svg-inline--fa fa-caret-down fa-w-10\" data-icon=\"caret-down\" data-prefix=\"fas\" focusable=\"false\" role=\"img\" viewbox=\"0 0 320 512\" xmlns=\"http://www.w3.org/2000/svg\"><path d=\"M31.3 192h257.3c17.8 0 26.7 21.5 14.1 34.1L174.1 354.8c-7.8 7.8-20.5 7.8-28.3 0L17.2 226.1C4.6 213.5 13.5 192 31.3 192z\" fill=\"currentColor\"></path></svg></a></div><div class=\"collapse\"><div class=\"card-body\"><ul class=\"list-unstyled\"></ul></div></div></div><div class=\"card\"><div class=\"card-header\"><a class=\"chapter_name\" href=\"/m/692/16504/122783\"><span>Wk 3: Deployment</span><svg aria-hidden=\"true\" class=\"svg-inline--fa fa-caret-down fa-w-10\" data-icon=\"caret-down\" data-prefix=\"fas\" focusable=\"false\" role=\"img\" viewbox=\"0 0 320 512\" xmlns=\"http://www.w3.org/2000/svg\"><path d=\"M31.3 192h257.3c17.8 0 26.7 21.5 14.1 34.1L174.1 354.8c-7.8 7.8-20.5 7.8-28.3 0L17.2 226.1C4.6 213.5 13.5 192 31.3 192z\" fill=\"currentColor\"></path></svg></a></div><div class=\"collapse\"><div class=\"card-body\"><ul class=\"list-unstyled\"></ul></div></div></div><div class=\"card\"><div class=\"card-header\"><a class=\"chapter_name\" href=\"/m/692/16505/122784\"><span>Wk 4: Data Acquisition</span><svg aria-hidden=\"true\" class=\"svg-inline--fa fa-caret-down fa-w-10\" data-icon=\"caret-down\" data-prefix=\"fas\" focusable=\"false\" role=\"img\" viewbox=\"0 0 320 512\" xmlns=\"http://www.w3.org/2000/svg\"><path d=\"M31.3 192h257.3c17.8 0 26.7 21.5 14.1 34.1L174.1 354.8c-7.8 7.8-20.5 7.8-28.3 0L17.2 226.1C4.6 213.5 13.5 192 31.3 192z\" fill=\"currentColor\"></path></svg></a></div><div class=\"collapse\"><div class=\"card-body\"><ul class=\"list-unstyled\"></ul></div></div></div></div></aside>"
      ]
     },
     "execution_count": 20,
     "metadata": {},
     "output_type": "execute_result"
    }
   ],
   "source": [
    "# Use inspect tool to find the sidebar\n",
    "sidebar = soup.find('aside', id = 'module_sidebar_container')\n",
    "sidebar"
   ]
  },
  {
   "cell_type": "code",
   "execution_count": 21,
   "id": "cbd33e65-d401-4ed0-902f-a185d5e3fc0f",
   "metadata": {},
   "outputs": [
    {
     "data": {
      "text/plain": [
       "<h2>ADVANCED MACHINE LEARNING</h2>"
      ]
     },
     "execution_count": 21,
     "metadata": {},
     "output_type": "execute_result"
    }
   ],
   "source": [
    "# An easier example to get started\n",
    "h2_header = sidebar.find('h2')\n",
    "h2_header"
   ]
  },
  {
   "cell_type": "code",
   "execution_count": 22,
   "id": "59e9472f-8bb0-47c8-8f73-bd35ffcc163a",
   "metadata": {},
   "outputs": [],
   "source": [
    "# Find all module names\n",
    "modules = sidebar.find_all('span', {'class' : 'module_name'})"
   ]
  },
  {
   "cell_type": "code",
   "execution_count": 23,
   "id": "f22f0f0b-f563-44bb-b664-e82887359e24",
   "metadata": {},
   "outputs": [
    {
     "data": {
      "text/plain": [
       "30"
      ]
     },
     "execution_count": 23,
     "metadata": {},
     "output_type": "execute_result"
    }
   ],
   "source": [
    "# How many modules were found?\n",
    "len(modules)"
   ]
  },
  {
   "cell_type": "code",
   "execution_count": 24,
   "id": "3a05e28b-b72e-46e1-b77b-102097d99800",
   "metadata": {},
   "outputs": [
    {
     "data": {
      "text/plain": [
       "<span class=\"module_name\">Intro to NLP</span>"
      ]
     },
     "execution_count": 24,
     "metadata": {},
     "output_type": "execute_result"
    }
   ],
   "source": [
    "# Explore the first module\n",
    "modules[0]"
   ]
  },
  {
   "cell_type": "code",
   "execution_count": 25,
   "id": "7e4d63e3-c3bb-4b96-9e5d-16c97db37d52",
   "metadata": {},
   "outputs": [
    {
     "data": {
      "text/plain": [
       "'Intro to NLP'"
      ]
     },
     "execution_count": 25,
     "metadata": {},
     "output_type": "execute_result"
    }
   ],
   "source": [
    "# Limit the module to text only\n",
    "modules[0].text"
   ]
  },
  {
   "cell_type": "code",
   "execution_count": 26,
   "id": "b04b0863-7854-43cf-9115-def0a6337e0b",
   "metadata": {},
   "outputs": [],
   "source": [
    "# Make a list of modules with text only\n",
    "list_of_modules = [module.text for module in modules]\n"
   ]
  },
  {
   "cell_type": "code",
   "execution_count": 27,
   "id": "dab6bb20-2cc7-4c52-987e-e3d43f20d729",
   "metadata": {},
   "outputs": [
    {
     "data": {
      "text/plain": [
       "['Intro to NLP',\n",
       " 'Working with Strings',\n",
       " 'Regular Expressions',\n",
       " 'Working with Regex(Practice) ',\n",
       " 'Word Cloud',\n",
       " 'Word Cloud (Practice)',\n",
       " 'Tokenization NLTK',\n",
       " 'Knowledge Check #21.1',\n",
       " 'Frequency Distribution',\n",
       " 'Stemming and Lemmatization',\n",
       " 'NLP with Spacy',\n",
       " 'SpaCy and FreqDist (Practice)',\n",
       " 'Text in a Dataframe',\n",
       " 'Knowledge Check #21.2',\n",
       " 'Comparing Groups: Word Clouds',\n",
       " 'Comparing Groups: Frequency Distributions',\n",
       " 'Comparing Groups: N-grams',\n",
       " 'Comparing Texts (Core)',\n",
       " 'Sentiment Analysis',\n",
       " 'Customizing nlp Pipeline',\n",
       " 'Scattertext',\n",
       " 'Vectorization',\n",
       " 'Knowledge Check #21.3',\n",
       " 'Text Classification with sklearn',\n",
       " 'Naive Bayes',\n",
       " 'Naive Bayes (Practice)',\n",
       " 'Advanced GridSearchCV',\n",
       " 'Text Classification with Sklearn (Core)',\n",
       " 'Project 2 - Part 5 (Core)',\n",
       " 'Chapter Survey']"
      ]
     },
     "execution_count": 27,
     "metadata": {},
     "output_type": "execute_result"
    }
   ],
   "source": [
    "# Display the results\n",
    "list_of_modules"
   ]
  },
  {
   "cell_type": "code",
   "execution_count": null,
   "id": "e2a84a3b-d877-43bc-8d5c-7b7856ea4250",
   "metadata": {},
   "outputs": [],
   "source": []
  }
 ],
 "metadata": {
  "kernelspec": {
   "display_name": "Python (dojo-env)",
   "language": "python",
   "name": "dojo-env"
  },
  "language_info": {
   "codemirror_mode": {
    "name": "ipython",
    "version": 3
   },
   "file_extension": ".py",
   "mimetype": "text/x-python",
   "name": "python",
   "nbconvert_exporter": "python",
   "pygments_lexer": "ipython3",
   "version": "3.10.10"
  },
  "widgets": {
   "application/vnd.jupyter.widget-state+json": {
    "state": {},
    "version_major": 2,
    "version_minor": 0
   }
  }
 },
 "nbformat": 4,
 "nbformat_minor": 5
}
