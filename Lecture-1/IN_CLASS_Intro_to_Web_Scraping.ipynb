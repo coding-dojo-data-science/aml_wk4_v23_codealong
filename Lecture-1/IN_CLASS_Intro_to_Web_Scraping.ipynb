{
 "cells": [
  {
   "cell_type": "markdown",
   "id": "9b407136-cc6b-4e8b-88c8-9dc9b8fc5f1a",
   "metadata": {},
   "source": [
    "# Intro to Web Scraping (Demo)\n",
    "\n",
    "Explore the site: https://www.scrapethissite.com/pages/simple/ \n",
    "\n",
    "Task: How many countries are included?\n",
    "\n",
    "Make a dataframe consisting of each country, capital, population, and area\n",
    "\n",
    "Export the data as a csv\n",
    "\n"
   ]
  },
  {
   "cell_type": "markdown",
   "id": "e460a66f-1f9c-4d5c-954a-1415e8e426d1",
   "metadata": {},
   "source": [
    "## Make request"
   ]
  },
  {
   "cell_type": "code",
   "execution_count": null,
   "id": "ca4df850-91dc-4f93-962d-900b1cad6084",
   "metadata": {},
   "outputs": [],
   "source": [
    "import requests\n",
    "url = 'https://www.scrapethissite.com/pages/simple/'\n",
    "response = requests.get(url)"
   ]
  },
  {
   "cell_type": "code",
   "execution_count": null,
   "id": "2a017f96-6cae-48ab-94a9-5d8e99d006fd",
   "metadata": {},
   "outputs": [],
   "source": [
    "# Check status code\n",
    "response.status_code"
   ]
  },
  {
   "cell_type": "code",
   "execution_count": null,
   "id": "cf05a7d2-d60e-4054-9008-8256cb8940f7",
   "metadata": {},
   "outputs": [],
   "source": [
    "# Preview the content of the response\n",
    "response.content[:1000]"
   ]
  },
  {
   "cell_type": "markdown",
   "id": "53a93a74-4484-4e7b-ac87-646bcc592b42",
   "metadata": {},
   "source": [
    "## Make Soup Object"
   ]
  },
  {
   "cell_type": "code",
   "execution_count": null,
   "id": "74aa0a8f-8cc8-4568-ad6c-8ccc84945456",
   "metadata": {},
   "outputs": [],
   "source": [
    "from bs4 import BeautifulSoup\n",
    "\n",
    "soup = BeautifulSoup(response.content)\n",
    "\n",
    "# To view the soup object, use .prettify()\n",
    "\n",
    "soup.prettify()"
   ]
  },
  {
   "cell_type": "code",
   "execution_count": null,
   "id": "9db85a0b-4990-4cf0-9b76-3452b3fee342",
   "metadata": {},
   "outputs": [],
   "source": [
    "# Make it easier to read by printing (Here we only printed the first 1000 characters)\n",
    "\n",
    "print(soup.prettify()[:1000])"
   ]
  },
  {
   "cell_type": "markdown",
   "id": "b5887a6e-23db-4685-98bd-b95595c05a38",
   "metadata": {},
   "source": [
    "## Navigate the soup"
   ]
  },
  {
   "cell_type": "code",
   "execution_count": null,
   "id": "e300405f-1a59-4ee0-9fe1-427cdd294520",
   "metadata": {},
   "outputs": [],
   "source": [
    "# Find the title\n",
    "soup.title"
   ]
  },
  {
   "cell_type": "code",
   "execution_count": null,
   "id": "80ee63e1-4b5f-41d4-b753-2b9b37b6995e",
   "metadata": {},
   "outputs": [],
   "source": [
    "# We can get just the content of the title without the tags by adding .text\n",
    "\n",
    "soup.title.text"
   ]
  },
  {
   "cell_type": "code",
   "execution_count": null,
   "id": "c094a2d6-28b5-4d25-912e-b3429f5dca8b",
   "metadata": {},
   "outputs": [],
   "source": [
    "# Find the body\n",
    "soup.body"
   ]
  },
  {
   "cell_type": "code",
   "execution_count": null,
   "id": "cd7d04e7-090b-4442-a41d-41355f4152c6",
   "metadata": {},
   "outputs": [],
   "source": [
    "# Find all h1 tags\n",
    "h1_headers = soup.find_all('h1')\n",
    "len(h1_headers)"
   ]
  },
  {
   "cell_type": "code",
   "execution_count": null,
   "id": "2c13d177-0edc-46d8-8fbf-a613a7db02c9",
   "metadata": {},
   "outputs": [],
   "source": [
    "h1_headers"
   ]
  },
  {
   "cell_type": "code",
   "execution_count": null,
   "id": "7241c30f-dc5a-481c-9ea4-d5eea7717b1e",
   "metadata": {},
   "outputs": [],
   "source": [
    "# Obtain the country div for each country\n",
    "country_divs = soup.find_all(\"div\", attrs={'class':'col-md-4 country'})\n",
    "len(country_divs)"
   ]
  },
  {
   "cell_type": "code",
   "execution_count": null,
   "id": "0602e8e3-c412-40f0-af9a-308f6afe3c13",
   "metadata": {},
   "outputs": [],
   "source": [
    "# Find each piece of information within one of the country_divs\n",
    "country_div = country_divs[0]\n",
    "country_div"
   ]
  },
  {
   "cell_type": "code",
   "execution_count": null,
   "id": "d4a117c1-a356-4548-8958-6445623efb5d",
   "metadata": {},
   "outputs": [],
   "source": [
    "from IPython.display import HTML\n",
    "HTML(str(country_div))"
   ]
  },
  {
   "cell_type": "markdown",
   "id": "56ee21a9-1c65-49d2-93d9-64ba779402d9",
   "metadata": {},
   "source": [
    "### Extract the country name"
   ]
  },
  {
   "cell_type": "code",
   "execution_count": null,
   "id": "bf27f1e8-82c6-47d9-8189-79f1f2ed62b9",
   "metadata": {},
   "outputs": [],
   "source": [
    "country_name = country_div.find('h3', {'class' : 'country-name'})\n",
    "country_name"
   ]
  },
  {
   "cell_type": "code",
   "execution_count": null,
   "id": "582e1ca8-c9fa-4ca9-bdc5-854c83ebfb5c",
   "metadata": {},
   "outputs": [],
   "source": [
    "country_name.text"
   ]
  },
  {
   "cell_type": "code",
   "execution_count": null,
   "id": "942273cc-a844-4d1b-bd72-c9dbfd399488",
   "metadata": {},
   "outputs": [],
   "source": [
    "country_name.text.strip()"
   ]
  },
  {
   "cell_type": "markdown",
   "id": "639d87d8-51e7-449c-a7b4-882da183f77d",
   "metadata": {},
   "source": [
    "### Extract the capital"
   ]
  },
  {
   "cell_type": "code",
   "execution_count": null,
   "id": "078233a1-b451-4a7e-9815-c2c0e9c58516",
   "metadata": {},
   "outputs": [],
   "source": [
    "capital = country_div.find('span', attrs = {'class' : 'country-capital'})\n",
    "capital"
   ]
  },
  {
   "cell_type": "code",
   "execution_count": null,
   "id": "beb479ae-7b29-4ff4-a7f8-46faad5009ee",
   "metadata": {},
   "outputs": [],
   "source": [
    "capital.text"
   ]
  },
  {
   "cell_type": "markdown",
   "id": "2ec5c23a-5bb8-41b0-a531-f445584ccc20",
   "metadata": {},
   "source": [
    "### Extract the Population"
   ]
  },
  {
   "cell_type": "code",
   "execution_count": null,
   "id": "3ebedd60-c2ee-42e0-97b2-01c86a6a4693",
   "metadata": {},
   "outputs": [],
   "source": [
    "population = country_div.find('span', attrs = {'class' : 'country-population'})\n",
    "population"
   ]
  },
  {
   "cell_type": "code",
   "execution_count": null,
   "id": "b3565c74-cca3-452b-874d-a247ae69dadd",
   "metadata": {},
   "outputs": [],
   "source": [
    "population.text"
   ]
  },
  {
   "cell_type": "markdown",
   "id": "a68a758d-63fe-4a58-b635-add0f138bf29",
   "metadata": {},
   "source": [
    "### Extract the Area"
   ]
  },
  {
   "cell_type": "code",
   "execution_count": null,
   "id": "5f875a32-b75b-4da9-94a8-c7e9b08d9196",
   "metadata": {},
   "outputs": [],
   "source": [
    "area = country_div.find('span', attrs = {'class' : 'country-area'})\n",
    "area"
   ]
  },
  {
   "cell_type": "code",
   "execution_count": null,
   "id": "d4f9f178-6240-49fd-b0b2-9f3a5cb66e95",
   "metadata": {},
   "outputs": [],
   "source": [
    "area.text"
   ]
  },
  {
   "cell_type": "markdown",
   "id": "6c0e2dfc-21a9-43c1-bcc3-a25a1d1bedc8",
   "metadata": {},
   "source": [
    "## Make a dictionary with all of the info"
   ]
  },
  {
   "cell_type": "code",
   "execution_count": null,
   "id": "33e91d6f-dc3a-42ef-9691-67824838e094",
   "metadata": {},
   "outputs": [],
   "source": [
    "# Country nanme\n",
    "country_name = country_name = country_div.find('h3', {'class' : 'country-name'}).text.strip()\n",
    "\n",
    "# Capital\n",
    "capital = country_div.find('span', attrs = {'class' : 'country-capital'}).text\n",
    "\n",
    "# Population\n",
    "population =country_div.find('span', attrs = {'class' : 'country-population'}).text\n",
    "\n",
    "# Area\n",
    "area = country_div.find('span', attrs = {'class' : 'country-area'}).text\n",
    "\n",
    "country_dict = {\n",
    "                'Country': country_name,\n",
    "                'Capital' : capital,\n",
    "                'Population': population,\n",
    "                'Area' : area\n",
    "}\n",
    "\n",
    "country_dict"
   ]
  },
  {
   "cell_type": "markdown",
   "id": "d510592e-37f9-4b4c-b575-e43ad733f7b4",
   "metadata": {},
   "source": [
    "## Loop through all of the countries\n",
    "\n",
    "Create a list of dictionaries"
   ]
  },
  {
   "cell_type": "code",
   "execution_count": null,
   "id": "5dda68e5-5a1f-4c46-a105-5a632748c585",
   "metadata": {},
   "outputs": [],
   "source": [
    "# Create an empty list\n",
    "country_data_list = []\n",
    "\n",
    "# Loop through each country div and fill in the dictionary\n",
    "for country_div in country_divs:\n",
    "    # Country nanme\n",
    "    country_name = country_name = country_div.find('h3', {'class' : 'country-name'}).text.strip()\n",
    "\n",
    "    # Capital\n",
    "    capital = country_div.find('span', attrs = {'class' : 'country-capital'}).text\n",
    "\n",
    "    # Population\n",
    "    population =country_div.find('span', attrs = {'class' : 'country-population'}).text\n",
    "\n",
    "    # Area\n",
    "    area = country_div.find('span', attrs = {'class' : 'country-area'}).text\n",
    "\n",
    "    country_dict = {\n",
    "                    'Country': country_name,\n",
    "                    'Capital' : capital,\n",
    "                    'Population': population,\n",
    "                    'Area' : area\n",
    "    }\n",
    "\n",
    "    country_data_list.append(country_dict)"
   ]
  },
  {
   "cell_type": "code",
   "execution_count": null,
   "id": "47add73b-2155-42cd-9717-7b5e7b2f8acf",
   "metadata": {},
   "outputs": [],
   "source": [
    "# Confirm all countries are included\n",
    "len(country_data_list)"
   ]
  },
  {
   "cell_type": "code",
   "execution_count": null,
   "id": "979a5a7e-c57d-460d-994e-358ab3526bf4",
   "metadata": {},
   "outputs": [],
   "source": [
    "# Inspect a particular country\n",
    "country_data_list[10]"
   ]
  },
  {
   "cell_type": "markdown",
   "id": "b551d1d6-3fab-4b26-9910-6da15703396b",
   "metadata": {},
   "source": [
    "## Convert List of dictionaries to a dataframe"
   ]
  },
  {
   "cell_type": "code",
   "execution_count": null,
   "id": "ff65b788-1a17-448e-8051-c358b768a69b",
   "metadata": {},
   "outputs": [],
   "source": [
    "import pandas as pd"
   ]
  },
  {
   "cell_type": "code",
   "execution_count": null,
   "id": "c9a77802-4b84-473d-b1c8-cfa3f551e79c",
   "metadata": {},
   "outputs": [],
   "source": [
    "country_df = pd.DataFrame(country_data_list)\n",
    "country_df.head()"
   ]
  },
  {
   "cell_type": "code",
   "execution_count": null,
   "id": "bff46294-a863-4fa5-9da1-6a78e6ddedb3",
   "metadata": {},
   "outputs": [],
   "source": [
    "# Export the df as a csv\n",
    "country_df.to_csv(\"../Data/country_info_scraped.csv\", index=False)"
   ]
  },
  {
   "cell_type": "code",
   "execution_count": null,
   "id": "a7a4be08-6746-4e4a-b61f-f894196ddcd1",
   "metadata": {},
   "outputs": [],
   "source": []
  }
 ],
 "metadata": {
  "kernelspec": {
   "display_name": "Python 3 (ipykernel)",
   "language": "python",
   "name": "python3"
  },
  "language_info": {
   "codemirror_mode": {
    "name": "ipython",
    "version": 3
   },
   "file_extension": ".py",
   "mimetype": "text/x-python",
   "name": "python",
   "nbconvert_exporter": "python",
   "pygments_lexer": "ipython3",
   "version": "3.10.10"
  },
  "widgets": {
   "application/vnd.jupyter.widget-state+json": {
    "state": {},
    "version_major": 2,
    "version_minor": 0
   }
  }
 },
 "nbformat": 4,
 "nbformat_minor": 5
}
